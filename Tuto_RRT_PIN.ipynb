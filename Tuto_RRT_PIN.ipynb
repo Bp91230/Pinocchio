{
 "cells": [
  {
   "cell_type": "markdown",
   "metadata": {},
   "source": [
    "<h1>Tuto motion planing RRT avec pinocchio </h1>"
   ]
  },
  {
   "cell_type": "markdown",
   "metadata": {},
   "source": [
    "Dans ce tutoriel, nous allons voir comment faire un algorithme rrt avec pinocchio"
   ]
  },
  {
   "cell_type": "markdown",
   "metadata": {},
   "source": [
    "Tout d'abord nous aurons besoin de charger le modèle du robot qui sera le bras robotique ur5, placer des obstacles dans notre environnement, placer une cible , faire une fonction qui nous permet de mesurer la distance entre l'organe terminale et la cible, une fonction qui nous permet de vérifier les collisions pour une configuration donnée, une qui nous permet de produire une configuration aléatoire sans collision. Aussi une fonction qui nous permet de vérifier les collisions lors du passage d'une configuration à une autre et enfin notre fonction qui exécutera l'algorithme rrt. "
   ]
  },
  {
   "cell_type": "code",
   "execution_count": 7,
   "metadata": {},
   "outputs": [],
   "source": [
    "import pinocchio as pin\n",
    "import numpy as np\n",
    "from numpy.linalg import norm\n",
    "import graphviz\n",
    "from example_robot_data import load \n",
    "import itertools\n",
    "import time"
   ]
  },
  {
   "cell_type": "code",
   "execution_count": 8,
   "metadata": {},
   "outputs": [],
   "source": [
    "robot = load('ur5')  # Chargement du bras robotique"
   ]
  },
  {
   "cell_type": "markdown",
   "metadata": {},
   "source": [
    "Création des obstacles en capsule: "
   ]
  },
  {
   "cell_type": "code",
   "execution_count": 9,
   "metadata": {},
   "outputs": [],
   "source": [
    "color = [ 1.0, 0.2, 0.2, 1.0 ]                       # couleur de la capsule rgbt\n",
    "rad,length = .08,0.4                                  # rayon et longueur de la capsule\n",
    "R = np.array([[1.,0.,0.],[0.,0.,-1.],[0.,1.,0.]])  # Matrice de rotation (orientation de capsule)\n",
    "\n",
    "Positions = [[0.6, 0., 0.2 ],[0.3,0.1,0.6],[0.8,-0.1,0.1],[0.3,0.4,0.4]]      # Vecteurs de translation des obstacles \n",
    "for i,P in enumerate(Positions):\n",
    "    obstacle = pin.GeometryObject.CreateCapsule(rad,length)  # Pinocchio obstacle object\n",
    "    obstacle.meshColor = np.array(color)    # Couleur de l'obstacle \n",
    "    obstacle.name = \"obstacle%d\"%i                             # nom de l'objet\n",
    "    obstacle.parentJoint = 0                                 # objet parent = 0 = universe\n",
    "    obstacle.placement = pin.SE3(R,np.array(P))  # fonction permettant de d'avoir un élément de SE3\n",
    "    robot.collision_model.addGeometryObject(obstacle)  # Ajout de l'objet dans le modèle de  collision\n",
    "    robot.visual_model.addGeometryObject(obstacle)  # Ajout de l'objet dans le modèle de visuel"
   ]
  },
  {
   "cell_type": "markdown",
   "metadata": {},
   "source": [
    "Création des paires de collision :"
   ]
  },
  {
   "cell_type": "code",
   "execution_count": 10,
   "metadata": {},
   "outputs": [],
   "source": [
    "nObstacle = len(Positions)                                  # Nombre d'obstacle\n",
    "nCorps = robot.collision_model.ngeoms - nObstacle           # Nombre de corps du robot\n",
    "indiceCorps = range(nCorps)                                 # Indice des corps du robot\n",
    "indiceCorpsEnv = range(nCorps,nCorps+nObstacle)             # Indice des corps de l'environnement du robot\n",
    "robot.collision_model.removeAllCollisionPairs()             # Suppression des anciens couple de collision\n",
    "for j,k in itertools.product(indiceCorps,indiceCorpsEnv):\n",
    "    robot.collision_model.addCollisionPair(pin.CollisionPair(j,k)) # Ajout des paires de collision\n",
    "\n",
    "robot.collision_data = pin.GeometryData(robot.collision_model)         # Génération des données de collision\n",
    "robot.visual_data = pin.GeometryData(robot.visual_model)               # Génération des données visuelles\n"
   ]
  },
  {
   "cell_type": "code",
   "execution_count": 11,
   "metadata": {},
   "outputs": [],
   "source": [
    "robot.initViewer(loadModel = True)\n",
    "robot.display(robot.q0)"
   ]
  },
  {
   "cell_type": "markdown",
   "metadata": {},
   "source": [
    "Ajoutons notre cible :"
   ]
  },
  {
   "cell_type": "code",
   "execution_count": 33,
   "metadata": {},
   "outputs": [],
   "source": [
    "rgbt = [0.2, 1.2, 0.2, 1.0]  # rouge, vert, bleu, transparence (la couleur de l'objet)\n",
    "robot.viewer.gui.addSphere(\"world/target\", .05, rgbt)  # .05 représente le rayon de la sphère \n",
    "target= [0.5,0.2,0.4]       # Coordonnée de la sphère\n",
    "q1 = (target[0], target[1],target[2], 1, 0, 0, 0)  # x, y, z, quaternion\n",
    "robot.viewer.gui.applyConfiguration(\"world/target\", q1) # Création de la sphère\n",
    "robot.viewer.gui.refresh()  # Pour rafraîchir la fenêtre."
   ]
  },
  {
   "cell_type": "code",
   "execution_count": 13,
   "metadata": {},
   "outputs": [],
   "source": [
    "def endEffPos(q):                                               # Nous avons besoin de savoir où se trouve l'organe terminal pour chaque configuration\n",
    "    pin.framesForwardKinematics(robot.model, robot.data, q)     # qui sera appliquée sur le bras robotique\n",
    "    return robot.data.oMf[-1].translation                       # Pour cela on calcule la cinématique direct et on en déduit l'emplacement du repère de l'organe terminal\n",
    "                                                                # La partie translation correspond à sa position"
   ]
  },
  {
   "cell_type": "code",
   "execution_count": 14,
   "metadata": {},
   "outputs": [],
   "source": [
    "# Ensuite nous aurons aussi besoin de connaître la distance qui sépare la cible de l'organe terminal\n",
    "def dist(q,target):\n",
    "    return norm(endEffPos(q) - target)                     # Pour cela faut juste calculer la norme de la difference de leur vecteur position\n"
   ]
  },
  {
   "cell_type": "code",
   "execution_count": 15,
   "metadata": {},
   "outputs": [],
   "source": [
    "def collision(q):                                                    # Comme l'environnement du bras robotique contient des obstacles on aura besoin de verifier si une des parties du bras\n",
    "                                                                # rentre en collision avec un obstacle et agir en conséquence                    \n",
    "    pin.updateGeometryPlacements(robot.model, robot.data, robot.collision_model, robot.collision_data, q)\n",
    "    return pin.computeCollisions(robot.collision_model, robot.collision_data, False)"
   ]
  },
  {
   "cell_type": "code",
   "execution_count": 16,
   "metadata": {},
   "outputs": [],
   "source": [
    "def randomQ(check=False):                                         # Pour l'algorithme de recherche on auras besoin de générer des configurations aléatoire sans collision\n",
    "    while True:\n",
    "        q = np.random.rand(robot.model.nq) * 6.4 - 3.2\n",
    "        if not check or not collision(q): return q"
   ]
  },
  {
   "cell_type": "code",
   "execution_count": 17,
   "metadata": {},
   "outputs": [],
   "source": [
    "def lilqrand(range,target):                                               # Permet de produire une configuration aléatoire sans collision au voisinage(\"range\") de la cible   \n",
    "    while True:\n",
    "        q = randomQ(check=True)\n",
    "        if dist(q,target) < range:\n",
    "            return q"
   ]
  },
  {
   "cell_type": "code",
   "execution_count": 18,
   "metadata": {},
   "outputs": [],
   "source": [
    "def extendtoconf(q1, q2):                                       # Vérifie s'il y'a un collision entre q1 et q2 et \n",
    "                                                                # retourne la configuration juste avant la collision\n",
    "    dq = (q2 - q1) * .05\n",
    "    for i in range(20):\n",
    "        if not collision(q1 + dq):\n",
    "            q1 = q1 + dq\n",
    "        else:\n",
    "            return q1\n",
    "    return q1"
   ]
  },
  {
   "cell_type": "markdown",
   "metadata": {},
   "source": [
    "Nous allons essayer de modéliser les résultats produits en graph et pour cela nous allons créer une structure de noeud dans laquelle les différentes configurations seront stockés. Et pour la création du graph nous allons utiliser la bibliothéque graphviz."
   ]
  },
  {
   "cell_type": "code",
   "execution_count": 19,
   "metadata": {},
   "outputs": [],
   "source": [
    "class Node:\n",
    "\n",
    "    def __init__(self, data):\n",
    "        self.data = data\n",
    "        self.children = []\n",
    "        self.parent = None\n",
    "\n",
    "    def set_parent(noderef, nodeadd):\n",
    "        noderef.parent = nodeadd\n",
    "\n",
    "    def set_children(noderef, nodeadd):\n",
    "        noderef.children.append(nodeadd)"
   ]
  },
  {
   "cell_type": "markdown",
   "metadata": {},
   "source": [
    "Maintenant que nous avons presque toutes les fonctions dont nous aurons besoin, nous pouvons nous lancer dans la conception du rrt.\n",
    "L'idée serait de faire en sorte que le bras robotique trouve une suite de configuration sans collision qui lui permettrons d'attraper la cible par son organe terminal partant d'une configuration initiale à définir.\n",
    "Donc nous allons produire à chaque fois une configuration aléatoire, chercher la configuration la plus proche de celle là parmi celle déjà produite. Tester le trajet entre les deux configurations et s'il y'a une collision durant le trajet la configuration juste avant collision est retenue et ajouter dans l'arbre.\n",
    "Et une fois sur trois on biaise l'aléatoire en faisant en sorte que la configuration soit une dont l'organe terminal se trouve aux environs de la cible. Et le processus est répété jusqu'à ce que la cible soit trouvé. Théoriquement s'il existe une solution l'algorithme la trouvera mais dans un temps qui peut tendre vers l'infini. Donc pour certains cas l'algorithme risque de vraiment s'executer pendant longtemps.\n",
    "\n",
    "Pour avoir une représentation graphique du développement de l'arbre nous utiliserons graphviz"
   ]
  },
  {
   "cell_type": "code",
   "execution_count": 20,
   "metadata": {},
   "outputs": [],
   "source": [
    "def minidx(tab):                                                # Retourne l'indice du minimum d'un tableau\n",
    "    for i in range(len(tab)):\n",
    "        if tab[i] == min(tab):\n",
    "            return i"
   ]
  },
  {
   "cell_type": "code",
   "execution_count": 21,
   "metadata": {},
   "outputs": [],
   "source": [
    "def rrt(\n",
    "        g,target,q0=None):                                 # g est l'instance de graphviz qui nous permettra de créer notre graphe\n",
    "    rhist = []\n",
    "    \n",
    "    q = randomQ(check=True) if q0 is None else q0\n",
    "    hist = [Node(q.copy())]                         # les configurations sont enregistrées dans des nœuds\n",
    "    baseconf = str(sum(q))\n",
    "    g.node(baseconf, 'BaseConf',color = 'blue')                    # Ajout de la configuration de départ dans le graphe\n",
    "    t = 1\n",
    "    while True:\n",
    "        if t % 3 == 0:\n",
    "            qr = lilqrand(0.05,target)                             # Génère une configuration random dans laquelle l'OT est à 0.05 de la cible \n",
    "                                                                   # Vous pouvez vous amusez de changer la valeur 0.05 et voire le nombre de configuration qui l'amène jusqu'à la cible\n",
    "                                                                   # Ainsi que le temps d'execution de l'algorithme, tout ça en prenant en compte \"la complexité\" de l'emplacement de la cible par rapport à l'obstacle\n",
    "        else:\n",
    "            qr = randomQ(check=True)\n",
    "        t = t + 1\n",
    "        myarray = []\n",
    "        norms = []\n",
    "        for i in range(len(hist)):\n",
    "            norms.append(norm(hist[i].data - qr))\n",
    "        idx = minidx(norms)\n",
    "        qt = extendtoconf(hist[idx].data, qr)                 # Vérifie s'il y'a une collision entre la nouvelle config produite et celle qui est la plus proche d'elle et renvoie la dernière config tout juste avant la collision\n",
    "        if sum(qt) != sum(qr):                                # Pour éviter de remettre la même config dans le graphe\n",
    "            node = Node(qt.copy())\n",
    "            Node.set_children(hist[idx], node)\n",
    "            Node.set_parent(node, hist[idx])\n",
    "            hist.append(node)                                 # Mise a jour de l'arbre\n",
    "            g.node(str(sum(node.data)), str(len(hist) - 1))\n",
    "            if node.parent is not None and sum(node.parent.data) != sum(node.data):\n",
    "                g.edge(str(sum(node.parent.data)), str(sum(node.data)))\n",
    "            if dist(node.data,target) < 5e-2:                                        # Si la distance entre la cible et l'organe terminal est inférieur à 0.05 on considère que l'organe terminal à attraper la cible       \n",
    "                g.node(str(sum(hist[-1].data)), str(len(hist)), color='green')\n",
    "                tmp = node\n",
    "                while tmp is not None:\n",
    "                    rhist.append(tmp)\n",
    "                    tmp = tmp.parent\n",
    "                for i in range(len(rhist)):\n",
    "                    if rhist[i].parent is not None:\n",
    "                        g.edge(str(sum(rhist[i].parent.data)), str(sum(rhist[i].data)), color='green')\n",
    "                print('Trajectoire touvee !')\n",
    "                return rhist\n",
    "            \n",
    "    return None "
   ]
  },
  {
   "cell_type": "markdown",
   "metadata": {},
   "source": [
    "Passons maintenant au test de notre algorithme. Pour cela on va créer notre graphe et choisir une configuration sans collision de départ"
   ]
  },
  {
   "cell_type": "code",
   "execution_count": 34,
   "metadata": {},
   "outputs": [],
   "source": [
    "g = graphviz.Digraph('rrt', filename= 'Test5rrt.gv')"
   ]
  },
  {
   "cell_type": "code",
   "execution_count": 23,
   "metadata": {},
   "outputs": [],
   "source": [
    "qInit = randomQ(check= True)"
   ]
  },
  {
   "cell_type": "code",
   "execution_count": 35,
   "metadata": {},
   "outputs": [],
   "source": [
    "robot.display(qInit)"
   ]
  },
  {
   "cell_type": "code",
   "execution_count": 36,
   "metadata": {},
   "outputs": [
    {
     "name": "stdout",
     "output_type": "stream",
     "text": [
      "Trajectoire touvee !\n"
     ]
    }
   ],
   "source": [
    "chemin = rrt(g,target,qInit)"
   ]
  },
  {
   "cell_type": "code",
   "execution_count": 37,
   "metadata": {},
   "outputs": [
    {
     "data": {
      "text/plain": [
       "6"
      ]
     },
     "execution_count": 37,
     "metadata": {},
     "output_type": "execute_result"
    }
   ],
   "source": [
    "len(chemin)"
   ]
  },
  {
   "cell_type": "markdown",
   "metadata": {},
   "source": [
    "Maintenant après avoir trouver la suite de configuration qui nous amène jusqu'à la cible nous pouvons visualiser le chemin dans gepetto-gui. Et pour cela on va faire une petite fonction : "
   ]
  },
  {
   "cell_type": "code",
   "execution_count": 30,
   "metadata": {},
   "outputs": [],
   "source": [
    "def disptraj(rhist):                                          # Cette fonction permet de montrer la trajectoire du bras dans le veiwer\n",
    "    for i in range(1, len(rhist) + 1):\n",
    "        q = rhist[-i].data\n",
    "        if -i - 1 >= -len(rhist):\n",
    "            dq = (rhist[-i - 1].data - rhist[-i].data) * .05\n",
    "            for j in range(20):\n",
    "                q = q + dq\n",
    "                robot.display(q)\n",
    "                time.sleep(5e-2)                       "
   ]
  },
  {
   "cell_type": "code",
   "execution_count": 38,
   "metadata": {},
   "outputs": [],
   "source": [
    "disptraj(chemin)"
   ]
  },
  {
   "cell_type": "code",
   "execution_count": 39,
   "metadata": {},
   "outputs": [
    {
     "data": {
      "text/plain": [
       "'Test5rrt.gv.pdf'"
      ]
     },
     "execution_count": 39,
     "metadata": {},
     "output_type": "execute_result"
    },
    {
     "name": "stderr",
     "output_type": "stream",
     "text": [
      "\n",
      "(evince:11928): Gtk-WARNING **: 10:08:52.500: Could not load a pixbuf from icon theme.\n",
      "This may indicate that pixbuf loaders or the mime database could not be found.\n"
     ]
    }
   ],
   "source": [
    "g.engine = 'neato'     # Paramètre de la forme de l'arbre\n",
    "g.view()               # Permet de visualiser l'arbre produit dans un fichier pdf qui va s'ouvrir automatiquement"
   ]
  },
  {
   "cell_type": "markdown",
   "metadata": {},
   "source": [
    "Pour conclure nous pourrons juste dire que le temps d'execution de l'algorithme à trouver un résultat dépend de la manière dont on a biaiser l'aléatoire (le rayon du voisinage de la cible) mais aussi de la complexité de l'emplacement de la cible par rapport aux obstacles. Vous pourrez aussi essayer de changer la taille des obstacles pour voir ce que ça donne.    "
   ]
  }
 ],
 "metadata": {
  "kernelspec": {
   "display_name": "Python 3.10.4 64-bit",
   "language": "python",
   "name": "python3"
  },
  "language_info": {
   "codemirror_mode": {
    "name": "ipython",
    "version": 3
   },
   "file_extension": ".py",
   "mimetype": "text/x-python",
   "name": "python",
   "nbconvert_exporter": "python",
   "pygments_lexer": "ipython3",
   "version": "3.10.4"
  },
  "orig_nbformat": 4,
  "vscode": {
   "interpreter": {
    "hash": "916dbcbb3f70747c44a77c7bcd40155683ae19c65e1c03b4aa3499c5328201f1"
   }
  }
 },
 "nbformat": 4,
 "nbformat_minor": 2
}
