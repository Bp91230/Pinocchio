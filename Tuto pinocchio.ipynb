{
 "cells": [
  {
   "cell_type": "markdown",
   "metadata": {},
   "source": [
    "<h1>Tuto prise en main de pinocchio</h1>"
   ]
  },
  {
   "cell_type": "markdown",
   "metadata": {},
   "source": [
    "Dans ce tutorial nous allons essayer de voir quelques petites manipulations de base que l'on peut faire avec Pinocchio.\n",
    "Tout d'abords Pinocchio est une bibliothèque permettant de calculer efficacement la dynamique (et les dérivés) d’un modèle de robot, ou de tout modèle articulé à corps rigide que vous souhaitez.\n",
    "<h2><li>Charger le modèle du robot</li></h2>\n",
    "La première des choses que vous avez à faire est de charger le modèle du robot. Pour cela vous pouvez déjà regarder si le modèle avec lequel vous voulez travailler ne se trouve pas déjà dans la base d’exemple (« example_robot_data ») qui vient avec l’installation de Pinocchio. Sinon vous devez juste trouver le chemin absolu de votre fichier «.urdf » qui se trouve dans le dossier de description de votre robot. \n",
    "Déjà nous allons importer les packages qui nous seront nécessaire \n"
   ]
  },
  {
   "cell_type": "code",
   "execution_count": 82,
   "metadata": {},
   "outputs": [],
   "source": [
    "import pinocchio as pin\n",
    "from example_robot_data import load\n",
    "from pinocchio.robot_wrapper import RobotWrapper\n",
    "from numpy.linalg import norm\n",
    "import numpy"
   ]
  },
  {
   "cell_type": "markdown",
   "metadata": {},
   "source": [
    "Si le modèle que vous voulez charger se trouve dans la base d'exemple déjà présente vous pouvez juste utilisez la méthode load importé qui prend paramètre le nom du robot que vous voulez charger. Par exemple on va charger le bras robotique ur5 qui se trouve déjà dans la base d'exemple juste en faisant :  "
   ]
  },
  {
   "cell_type": "code",
   "execution_count": 83,
   "metadata": {},
   "outputs": [],
   "source": [
    "robot = load('ur5')"
   ]
  },
  {
   "cell_type": "markdown",
   "metadata": {},
   "source": [
    "Pour trouver ces noms de robots qui sont pris en paramètre vous pouvez juste mettre n’import quel caractère en paramètre de la fonction load et un message d’erreur sera\n",
    "produit avec la liste des noms de robots que vous pouvez charger."
   ]
  },
  {
   "cell_type": "code",
   "execution_count": 84,
   "metadata": {},
   "outputs": [
    {
     "ename": "ValueError",
     "evalue": "Robot 'e' not found. Possible values are a1, anymal, anymal_kinova, asr_twodof, baxter, bolt, cassie, double_pendulum, double_pendulum_continuous, double_pendulum_simple, finger_edu, hector, hyq, icub, icub_reduced, iris, kinova, laikago, panda, romeo, simple_humanoid, simple_humanoid_classical, solo12, solo8, talos, talos_arm, talos_box, talos_full, talos_full_box, talos_legs, tiago, tiago_dual, tiago_no_hand, ur10, ur10_limited, ur3, ur3_gripper, ur3_limited, ur5, ur5_gripper, ur5_limited",
     "output_type": "error",
     "traceback": [
      "\u001b[0;31m---------------------------------------------------------------------------\u001b[0m",
      "\u001b[0;31mValueError\u001b[0m                                Traceback (most recent call last)",
      "\u001b[0;32m/tmp/ipykernel_10639/779768808.py\u001b[0m in \u001b[0;36m<module>\u001b[0;34m\u001b[0m\n\u001b[0;32m----> 1\u001b[0;31m \u001b[0mrobot\u001b[0m \u001b[0;34m=\u001b[0m \u001b[0mload\u001b[0m\u001b[0;34m(\u001b[0m\u001b[0;34m'e'\u001b[0m\u001b[0;34m)\u001b[0m\u001b[0;34m\u001b[0m\u001b[0;34m\u001b[0m\u001b[0m\n\u001b[0m",
      "\u001b[0;32m/opt/openrobots/lib/python3.10/site-packages/example_robot_data/robots_loader.py\u001b[0m in \u001b[0;36mload\u001b[0;34m(name, display, rootNodeName)\u001b[0m\n\u001b[1;32m    540\u001b[0m \u001b[0;32mdef\u001b[0m \u001b[0mload\u001b[0m\u001b[0;34m(\u001b[0m\u001b[0mname\u001b[0m\u001b[0;34m,\u001b[0m \u001b[0mdisplay\u001b[0m\u001b[0;34m=\u001b[0m\u001b[0;32mFalse\u001b[0m\u001b[0;34m,\u001b[0m \u001b[0mrootNodeName\u001b[0m\u001b[0;34m=\u001b[0m\u001b[0;34m\"\"\u001b[0m\u001b[0;34m)\u001b[0m\u001b[0;34m:\u001b[0m\u001b[0;34m\u001b[0m\u001b[0;34m\u001b[0m\u001b[0m\n\u001b[1;32m    541\u001b[0m     \u001b[0;34m\"\"\"Load a robot by its name, and optionnaly display it in a viewer.\"\"\"\u001b[0m\u001b[0;34m\u001b[0m\u001b[0;34m\u001b[0m\u001b[0m\n\u001b[0;32m--> 542\u001b[0;31m     \u001b[0;32mreturn\u001b[0m \u001b[0mloader\u001b[0m\u001b[0;34m(\u001b[0m\u001b[0mname\u001b[0m\u001b[0;34m,\u001b[0m \u001b[0mdisplay\u001b[0m\u001b[0;34m,\u001b[0m \u001b[0mrootNodeName\u001b[0m\u001b[0;34m)\u001b[0m\u001b[0;34m.\u001b[0m\u001b[0mrobot\u001b[0m\u001b[0;34m\u001b[0m\u001b[0;34m\u001b[0m\u001b[0m\n\u001b[0m\u001b[1;32m    543\u001b[0m \u001b[0;34m\u001b[0m\u001b[0m\n\u001b[1;32m    544\u001b[0m \u001b[0;34m\u001b[0m\u001b[0m\n",
      "\u001b[0;32m/opt/openrobots/lib/python3.10/site-packages/example_robot_data/robots_loader.py\u001b[0m in \u001b[0;36mloader\u001b[0;34m(name, display, rootNodeName)\u001b[0m\n\u001b[1;32m    524\u001b[0m     \u001b[0;32mif\u001b[0m \u001b[0mname\u001b[0m \u001b[0;32mnot\u001b[0m \u001b[0;32min\u001b[0m \u001b[0mROBOTS\u001b[0m\u001b[0;34m:\u001b[0m\u001b[0;34m\u001b[0m\u001b[0;34m\u001b[0m\u001b[0m\n\u001b[1;32m    525\u001b[0m         \u001b[0mrobots\u001b[0m \u001b[0;34m=\u001b[0m \u001b[0;34m\", \"\u001b[0m\u001b[0;34m.\u001b[0m\u001b[0mjoin\u001b[0m\u001b[0;34m(\u001b[0m\u001b[0msorted\u001b[0m\u001b[0;34m(\u001b[0m\u001b[0mROBOTS\u001b[0m\u001b[0;34m.\u001b[0m\u001b[0mkeys\u001b[0m\u001b[0;34m(\u001b[0m\u001b[0;34m)\u001b[0m\u001b[0;34m)\u001b[0m\u001b[0;34m)\u001b[0m\u001b[0;34m\u001b[0m\u001b[0;34m\u001b[0m\u001b[0m\n\u001b[0;32m--> 526\u001b[0;31m         raise ValueError(\n\u001b[0m\u001b[1;32m    527\u001b[0m             \u001b[0;34m\"Robot '%s' not found. Possible values are %s\"\u001b[0m \u001b[0;34m%\u001b[0m \u001b[0;34m(\u001b[0m\u001b[0mname\u001b[0m\u001b[0;34m,\u001b[0m \u001b[0mrobots\u001b[0m\u001b[0;34m)\u001b[0m\u001b[0;34m\u001b[0m\u001b[0;34m\u001b[0m\u001b[0m\n\u001b[1;32m    528\u001b[0m         )\n",
      "\u001b[0;31mValueError\u001b[0m: Robot 'e' not found. Possible values are a1, anymal, anymal_kinova, asr_twodof, baxter, bolt, cassie, double_pendulum, double_pendulum_continuous, double_pendulum_simple, finger_edu, hector, hyq, icub, icub_reduced, iris, kinova, laikago, panda, romeo, simple_humanoid, simple_humanoid_classical, solo12, solo8, talos, talos_arm, talos_box, talos_full, talos_full_box, talos_legs, tiago, tiago_dual, tiago_no_hand, ur10, ur10_limited, ur3, ur3_gripper, ur3_limited, ur5, ur5_gripper, ur5_limited"
     ]
    }
   ],
   "source": [
    "robot = load('e')"
   ]
  },
  {
   "cell_type": "markdown",
   "metadata": {},
   "source": [
    "Et si vous voulez charger un modèle qui ne se trouve pas dans cette liste vous pouvez utilisez la méthode \n",
    "RobotWrapper.BuildFromURDF qui prend en paramètre le chemin du fichier urdf énoncé plus haut ainsi que le chemin du répertoire du package\n",
    "Juste pour illustrer nous allons charger l'ur5 mais avec le fichier urdf"
   ]
  },
  {
   "cell_type": "code",
   "execution_count": 85,
   "metadata": {},
   "outputs": [],
   "source": [
    "URDF = '/opt/openrobots/share/example-robot-data/robots/ur_description/urdf/ur5_robot.urdf'\n",
    "robot = RobotWrapper.BuildFromURDF(URDF,['/opt/openrobots/share'])"
   ]
  },
  {
   "cell_type": "markdown",
   "metadata": {},
   "source": [
    "Après le chargement du modèle, un objet de type RobotWrapper est stocké dans la variable \"robot\". Et ce type contient beaucoup d'attributs et de mèthodes dont certains nous servirons pour la suite.\n",
    "\n",
    "<h3><li>Visualiser le robot</li></h3>\n",
    "Maintenant que nous avons chargé le robot nous avons la possibilité de visualiser le modèle dans gepetto-gui.\n",
    "Pour cela ouvrez le en tapant gepetto-gui dans le terminale et vous verrez une fenêtre apparaîte.\n",
    "Ensuite faite :"
   ]
  },
  {
   "cell_type": "code",
   "execution_count": 86,
   "metadata": {},
   "outputs": [],
   "source": [
    "robot.initViewer(loadModel = True) "
   ]
  },
  {
   "cell_type": "markdown",
   "metadata": {},
   "source": [
    "Pour bien pouvoir voir le bras nous pouvons l'afficher avec une configuration précise en faisant :"
   ]
  },
  {
   "cell_type": "code",
   "execution_count": 87,
   "metadata": {},
   "outputs": [],
   "source": [
    "robot.display(robot.q0) # robot.q0 est un vecteur de l'espace des configuration de l'instance robot"
   ]
  },
  {
   "cell_type": "markdown",
   "metadata": {},
   "source": [
    "A noter que la méthode display prend n'importe quelle vecteur de configuration ayant les bonnes dimensions en paramètre. "
   ]
  },
  {
   "cell_type": "markdown",
   "metadata": {},
   "source": [
    "Vous avez aussi la possibilité d'ajouter des objets géométriques dans le visualiseur. Nous allons essayer d'ajouter une sphére par exemple: "
   ]
  },
  {
   "cell_type": "code",
   "execution_count": 88,
   "metadata": {},
   "outputs": [],
   "source": [
    "rgbt = [0.2, 1.2, 0.2, 1.0]  # rouge, vert, bleu, transparence (la couleur de l'objet)\n",
    "robot.viewer.gui.addSphere(\"world/target\", .05, rgbt)  # .05 represente le rayon de la sphère t\n",
    "target= [0.7,-0.3,0.4]       # Coordonnée de la sphère\n",
    "q1 = (target[0], target[1],target[2], 1, 0, 0, 0)  # x, y, z, quaternion\n",
    "robot.viewer.gui.applyConfiguration(\"world/target\", q1) # Création de la sphère\n",
    "robot.viewer.gui.refresh()  # Pour rafraîchir la fenêtre."
   ]
  },
  {
   "cell_type": "markdown",
   "metadata": {},
   "source": [
    "<h2><li>Algorithmes implémentés dans pinocchio</li></h2>\n",
    "Pour une configuration donnée il nous est possible de calculer l'emplacement des joints en utilisant :pinocchio.forwardKinematics elle prend en paramètre le modèle du robot qui se trouve dans robot.model, le champs robot.data là où sont stockés les résultats de certains algorithmes implémentés dans pinocchio et la configuration.\n",
    "\n",
    "Pour l'exemple que nous allons voir, nous allons prendre une configuration aléatoire , la dimension du vecteur de configuration se trouve dans robot.model.nq. Le nombre du degrée de liberté est robot.model.nv.\n"
   ]
  },
  {
   "cell_type": "code",
   "execution_count": 89,
   "metadata": {},
   "outputs": [],
   "source": [
    "q = numpy.random.rand(robot.model.nq)"
   ]
  },
  {
   "cell_type": "markdown",
   "metadata": {},
   "source": [
    "Pour avoir une configuration aléatoire vous pouvez aussi faire :"
   ]
  },
  {
   "cell_type": "code",
   "execution_count": 90,
   "metadata": {},
   "outputs": [],
   "source": [
    "q = pin.randomConfiguration(robot.model)"
   ]
  },
  {
   "cell_type": "code",
   "execution_count": 91,
   "metadata": {},
   "outputs": [],
   "source": [
    "pin.forwardKinematics(robot.model,robot.data,q)"
   ]
  },
  {
   "cell_type": "markdown",
   "metadata": {},
   "source": [
    "Les emplacements des joints ainsi calculés sont dant robot.data.oMi."
   ]
  },
  {
   "cell_type": "code",
   "execution_count": 92,
   "metadata": {},
   "outputs": [
    {
     "name": "stdout",
     "output_type": "stream",
     "text": [
      "  R =\n",
      "1 0 0\n",
      "0 1 0\n",
      "0 0 1\n",
      "  p = 0 0 0\n",
      "\n"
     ]
    }
   ],
   "source": [
    "print(robot.data.oMi[0])  # emplacement du joint d'indice 0 (la base)"
   ]
  },
  {
   "cell_type": "markdown",
   "metadata": {},
   "source": [
    "Faisons un petit focus sur robot.model : "
   ]
  },
  {
   "cell_type": "code",
   "execution_count": 93,
   "metadata": {},
   "outputs": [
    {
     "name": "stdout",
     "output_type": "stream",
     "text": [
      "Nb joints = 7 (nq=6,nv=6)\n",
      "  Joint 0 universe: parent=0\n",
      "  Joint 1 shoulder_pan_joint: parent=0\n",
      "  Joint 2 shoulder_lift_joint: parent=1\n",
      "  Joint 3 elbow_joint: parent=2\n",
      "  Joint 4 wrist_1_joint: parent=3\n",
      "  Joint 5 wrist_2_joint: parent=4\n",
      "  Joint 6 wrist_3_joint: parent=5\n",
      "\n"
     ]
    }
   ],
   "source": [
    "print(robot.model)"
   ]
  },
  {
   "cell_type": "markdown",
   "metadata": {},
   "source": [
    "Il contient des inforamtions sur les joints (leur parent, leur indice , leur nom)\n",
    "\n",
    "Il est aussi possible d'obtenir l'emplacement de chaque repère mais pour cela même après le calcul de la cinématique directe il faut mettre à jour leur emplacement en faisant"
   ]
  },
  {
   "cell_type": "code",
   "execution_count": 94,
   "metadata": {},
   "outputs": [],
   "source": [
    "pin.updateFramePlacements(robot.model,robot.data)"
   ]
  },
  {
   "cell_type": "markdown",
   "metadata": {},
   "source": [
    "Les emplacements des repères sont stockés dans robot.data.oMf[]"
   ]
  },
  {
   "cell_type": "code",
   "execution_count": 95,
   "metadata": {},
   "outputs": [
    {
     "name": "stdout",
     "output_type": "stream",
     "text": [
      "  R =\n",
      "1 0 0\n",
      "0 1 0\n",
      "0 0 1\n",
      "  p = 0 0 0\n",
      "\n"
     ]
    }
   ],
   "source": [
    "print(robot.data.oMf[0]) #Emplacement du repère d'indice 0 (repère de base) "
   ]
  },
  {
   "cell_type": "markdown",
   "metadata": {},
   "source": [
    "Vous pouvez aussi faire :"
   ]
  },
  {
   "cell_type": "code",
   "execution_count": 96,
   "metadata": {},
   "outputs": [
    {
     "name": "stdout",
     "output_type": "stream",
     "text": [
      "  R =\n",
      "1 0 0\n",
      "0 1 0\n",
      "0 0 1\n",
      "  p = 0 0 0\n",
      "\n"
     ]
    }
   ],
   "source": [
    "print(robot.model.frames[0].placement)"
   ]
  },
  {
   "cell_type": "code",
   "execution_count": 97,
   "metadata": {},
   "outputs": [
    {
     "name": "stdout",
     "output_type": "stream",
     "text": [
      "[0. 0. 0.]\n",
      "[[1. 0. 0.]\n",
      " [0. 1. 0.]\n",
      " [0. 0. 1.]]\n"
     ]
    }
   ],
   "source": [
    "print(robot.model.frames[0].placement.translation) # Attribut translation pour avoir juste la partie translation de l'élément de SE3 \n",
    "print(robot.model.frames[0].placement.rotation)  # Attribut rotation pour avoir juste la partie rotation de l'élément de SE3"
   ]
  },
  {
   "cell_type": "markdown",
   "metadata": {},
   "source": [
    "Pour avoir le nom des frames(repères) et ceux de leurs parents :"
   ]
  },
  {
   "cell_type": "code",
   "execution_count": 98,
   "metadata": {},
   "outputs": [
    {
     "name": "stdout",
     "output_type": "stream",
     "text": [
      "0 universe 0\n",
      "1 root_joint 0\n",
      "2 world 0\n",
      "3 world_joint 0\n",
      "4 base_link 0\n",
      "5 base_link-base_fixed_joint 0\n",
      "6 base 0\n",
      "7 shoulder_pan_joint 1\n",
      "8 shoulder_link 1\n",
      "9 shoulder_lift_joint 2\n",
      "10 upper_arm_link 2\n",
      "11 elbow_joint 3\n",
      "12 forearm_link 3\n",
      "13 wrist_1_joint 4\n",
      "14 wrist_1_link 4\n",
      "15 wrist_2_joint 5\n",
      "16 wrist_2_link 5\n",
      "17 wrist_3_joint 6\n",
      "18 wrist_3_link 6\n",
      "19 ee_fixed_joint 6\n",
      "20 ee_link 6\n",
      "21 wrist_3_link-tool0_fixed_joint 6\n",
      "22 tool0 6\n"
     ]
    }
   ],
   "source": [
    "for i,f in enumerate(robot.model.frames): print(i,f.name,f.parent)"
   ]
  },
  {
   "cell_type": "markdown",
   "metadata": {},
   "source": [
    "Pour trouver l'indice du repère dont vous avez le nom utilisez getFrameId de robot.model : "
   ]
  },
  {
   "cell_type": "code",
   "execution_count": 99,
   "metadata": {},
   "outputs": [
    {
     "name": "stdout",
     "output_type": "stream",
     "text": [
      "8\n"
     ]
    }
   ],
   "source": [
    "Id = robot.model.getFrameId(\"shoulder_link\")\n",
    "print(Id)"
   ]
  },
  {
   "cell_type": "markdown",
   "metadata": {},
   "source": [
    "Par la suite nous allons voir certains calculs différentiels avec pinocchio.\n",
    "Si nous avons par exemple une configuration de départ ainsi qu'une vitesse de départ il nous est possible de trouver la prochaine configuration au bout d'une seconde en faisant : "
   ]
  },
  {
   "cell_type": "code",
   "execution_count": 100,
   "metadata": {},
   "outputs": [
    {
     "name": "stdout",
     "output_type": "stream",
     "text": [
      "[ 4.68558946  5.73161098 -2.1233011   6.09348925  0.62111011 -4.83784577]\n"
     ]
    }
   ],
   "source": [
    "qdepart = pin.randomConfiguration(robot.model)# vecteur configuration\n",
    "v0 = numpy.random.rand(robot.model.nv) # vecteur vitesse\n",
    "qnext = pin.integrate(robot.model,qdepart,v0)\n",
    "print(qnext)"
   ]
  },
  {
   "cell_type": "markdown",
   "metadata": {},
   "source": [
    "Si par contre vous avez une configuration de départ et une d'arrivée et vous voulez connaître la vitesse au bout d'une seconde :"
   ]
  },
  {
   "cell_type": "code",
   "execution_count": 101,
   "metadata": {},
   "outputs": [
    {
     "name": "stdout",
     "output_type": "stream",
     "text": [
      "[ 3.33621924 -7.54146968 -4.0963393   7.8130303  10.53108042 10.44135635]\n"
     ]
    }
   ],
   "source": [
    "qdepart = pin.randomConfiguration(robot.model)\n",
    "qarrivee = pin.randomConfiguration(robot.model)\n",
    "vq = pin.difference(robot.model,qdepart,qarrivee)\n",
    "print(vq)"
   ]
  },
  {
   "cell_type": "markdown",
   "metadata": {},
   "source": [
    "Par ailleur, dans le modèle cinématique vous aurez à calculer la jacobienne d'un joint ou d'un repère. Pour cela , calculez d'abords l'emplacement des joints, puis la jocobienne de chaque joint  avec pinocchio.computeJointjacobian.  "
   ]
  },
  {
   "cell_type": "code",
   "execution_count": 102,
   "metadata": {},
   "outputs": [
    {
     "data": {
      "text/plain": [
       "array([[ 0.        ,  0.0666667 , -0.21515166,  0.07174307, -0.19601762,\n",
       "         0.27493487],\n",
       "       [ 0.        , -0.05920201,  0.19106109, -0.06370999, -0.07952145,\n",
       "         0.06410726],\n",
       "       [ 0.        ,  0.        , -0.19639702, -0.27790267,  0.05587305,\n",
       "        -0.15818959],\n",
       "       [ 0.        , -0.66400492, -0.66400492, -0.66400492,  0.38275636,\n",
       "         0.00407985],\n",
       "       [ 0.        , -0.7477282 , -0.7477282 , -0.7477282 , -0.33989906,\n",
       "        -0.92922803],\n",
       "       [ 1.        ,  0.        ,  0.        ,  0.        ,  0.85904959,\n",
       "        -0.36948428]])"
      ]
     },
     "execution_count": 102,
     "metadata": {},
     "output_type": "execute_result"
    }
   ],
   "source": [
    "pin.forwardKinematics(robot.model,robot.data,qdepart)\n",
    "pin.computeJointJacobians(robot.model,robot.data,qdepart)"
   ]
  },
  {
   "cell_type": "markdown",
   "metadata": {},
   "source": [
    "Pour avoir la jacobienne des repères pensez d'abords à mettre leur emplacement à jour puis utilisez pinocchio.getFrameJacobian \n",
    "prend en paramètre le modèle, les données, l’index du repère que\n",
    "l’on a évoqué plus haut, puis le repère de référence par rapport auquel vous voulez calculer votre jacobienne.\n",
    "\n",
    "Pour le repère de référence on a :"
   ]
  },
  {
   "cell_type": "code",
   "execution_count": 103,
   "metadata": {},
   "outputs": [
    {
     "name": "stdout",
     "output_type": "stream",
     "text": [
      "LOCAL\n"
     ]
    }
   ],
   "source": [
    "LOCAL = pin.ReferenceFrame.LOCAL\n",
    "print(LOCAL)"
   ]
  },
  {
   "cell_type": "markdown",
   "metadata": {},
   "source": [
    "Ou encore :"
   ]
  },
  {
   "cell_type": "code",
   "execution_count": 104,
   "metadata": {},
   "outputs": [
    {
     "name": "stdout",
     "output_type": "stream",
     "text": [
      "WORLD\n"
     ]
    }
   ],
   "source": [
    "WORLD = pin.ReferenceFrame.WORLD\n",
    "print(WORLD)"
   ]
  },
  {
   "cell_type": "code",
   "execution_count": 105,
   "metadata": {},
   "outputs": [
    {
     "data": {
      "text/plain": [
       "array([[-3.80639572e-01,  8.93474632e-02,  3.29027042e-01,\n",
       "         4.86547126e-02, -7.97084627e-02,  0.00000000e+00],\n",
       "       [ 1.00541932e-02, -3.27209450e-01, -1.54178519e-02,\n",
       "        -7.38430185e-02,  2.04902654e-02,  0.00000000e+00],\n",
       "       [-1.58189591e-01, -1.75208752e-01, -3.36344404e-01,\n",
       "        -6.83184369e-02, -1.00332936e-13,  0.00000000e+00],\n",
       "       [ 1.29247340e-01,  6.99071990e-01,  6.99071990e-01,\n",
       "         6.99071990e-01, -2.48970418e-01,  2.77555756e-17],\n",
       "       [-9.20204593e-01, -1.79707024e-01, -1.79707024e-01,\n",
       "        -1.79707024e-01, -9.68511090e-01,  4.89669416e-12],\n",
       "       [-3.69484278e-01,  6.92100960e-01,  6.92100960e-01,\n",
       "         6.92100960e-01,  4.74237316e-12,  1.00000000e+00]])"
      ]
     },
     "execution_count": 105,
     "metadata": {},
     "output_type": "execute_result"
    }
   ],
   "source": [
    "pin.updateFramePlacements(robot.model,robot.data)\n",
    "pin.getFrameJacobian(robot.model,robot.data,22,LOCAL) # 22 indice du repère de l'organe terminal(univers)"
   ]
  },
  {
   "cell_type": "markdown",
   "metadata": {},
   "source": [
    "En plus de ça certains algorithmes en lien avec la dynamique sont implémentés dans pinocchio par exemple RNEA pour la dynamique inverse, ABA pour la dynamique directe, le CRBA pour la matrice de masse"
   ]
  },
  {
   "cell_type": "code",
   "execution_count": 106,
   "metadata": {},
   "outputs": [],
   "source": [
    "q = pin.randomConfiguration(robot.model) # Configuration aléatoire\n",
    "vq = numpy.random.rand(robot.model.nv)*2-1 # Vecteur vitesse\n",
    "aq = numpy.random.rand(robot.model.nv)*2-1 # vecteur accélération"
   ]
  },
  {
   "cell_type": "code",
   "execution_count": 107,
   "metadata": {},
   "outputs": [
    {
     "name": "stdout",
     "output_type": "stream",
     "text": [
      "[ 2.56777353e+00 -5.01242674e+01 -1.40698803e+01  3.21933407e-01\n",
      " -1.54459182e-02  1.62398433e-02]\n"
     ]
    }
   ],
   "source": [
    "tauq = pin.rnea(robot.model,robot.data,q,vq,aq) # dynamique inverse\n",
    "print(tauq)"
   ]
  },
  {
   "cell_type": "markdown",
   "metadata": {},
   "source": [
    "Vérifions si le calcul de la dynamique directe avec la dynamique inverse que nous venons de trouver correspond bien à l'accélération aq utilisé avant"
   ]
  },
  {
   "cell_type": "code",
   "execution_count": 108,
   "metadata": {},
   "outputs": [
    {
     "name": "stdout",
     "output_type": "stream",
     "text": [
      "1.8590849472252627e-14\n"
     ]
    }
   ],
   "source": [
    "\n",
    "aq1 = pin.aba(robot.model,robot.data,q,vq,tauq)\n",
    "print(norm(aq-aq1))"
   ]
  },
  {
   "cell_type": "code",
   "execution_count": 109,
   "metadata": {},
   "outputs": [
    {
     "name": "stdout",
     "output_type": "stream",
     "text": [
      "[[ 3.68945116e+00  1.71309909e-01 -2.44071137e-02 -2.75827739e-03\n",
      "   2.36885332e-01 -4.16779713e-04]\n",
      " [ 1.71309909e-01  3.56199529e+00  1.31539037e+00  2.37758290e-01\n",
      "  -1.15040051e-03  1.69243017e-02]\n",
      " [-2.44071137e-02  1.31539037e+00  8.38912388e-01  2.42364475e-01\n",
      "  -1.15040051e-03  1.69243017e-02]\n",
      " [-2.75827739e-03  2.37758290e-01  2.42364475e-01  2.41468514e-01\n",
      "  -1.15040051e-03  1.69243017e-02]\n",
      " [ 2.36885332e-01 -1.15040051e-03 -1.15040051e-03 -1.15040051e-03\n",
      "   2.40921257e-01  0.00000000e+00]\n",
      " [-4.16779713e-04  1.69243017e-02  1.69243017e-02  1.69243017e-02\n",
      "   0.00000000e+00  1.71364731e-02]]\n"
     ]
    }
   ],
   "source": [
    "M = pin.crba(robot.model,robot.data,q) #Matrice de masse du robot\n",
    "print(M)"
   ]
  },
  {
   "cell_type": "markdown",
   "metadata": {},
   "source": [
    "La fonction pinocchio.computeAllTerm() permet de calculer le terme  b(q, vq) = c(q, vq) + g(q) et le stocke dans\n",
    "robot.data.nle .Elle calcul aussi en même temps la matrice de masse M et le stocke dans robot.data.M"
   ]
  },
  {
   "cell_type": "code",
   "execution_count": 110,
   "metadata": {},
   "outputs": [],
   "source": [
    "pin.computeAllTerms(robot.model,robot.data,q,vq)"
   ]
  },
  {
   "cell_type": "markdown",
   "metadata": {},
   "source": [
    "Le terme b(q,vq) peut être aussi calculer en annulant l'accélération dans l'algorithme du rnea"
   ]
  },
  {
   "cell_type": "code",
   "execution_count": 111,
   "metadata": {},
   "outputs": [],
   "source": [
    "b = pin.rnea(robot.model,robot.data,q,vq,aq*0)"
   ]
  },
  {
   "cell_type": "markdown",
   "metadata": {},
   "source": [
    "On peut bien vérifier pour voir si cela correspond bien à ce qu'il y'a dans robot.data.nle : "
   ]
  },
  {
   "cell_type": "code",
   "execution_count": 112,
   "metadata": {},
   "outputs": [
    {
     "name": "stdout",
     "output_type": "stream",
     "text": [
      "0.0\n"
     ]
    }
   ],
   "source": [
    "print(norm(b-robot.data.nle))"
   ]
  },
  {
   "cell_type": "markdown",
   "metadata": {},
   "source": [
    "Faisons de même pour M et robot.data.M : "
   ]
  },
  {
   "cell_type": "code",
   "execution_count": 113,
   "metadata": {},
   "outputs": [
    {
     "name": "stdout",
     "output_type": "stream",
     "text": [
      "6.555614292786558e-16\n"
     ]
    }
   ],
   "source": [
    "print(norm(M - robot.data.M))"
   ]
  },
  {
   "cell_type": "markdown",
   "metadata": {},
   "source": [
    "<h2><li>Collisions</li></h2> \n",
    "A prèsent nous allons parler des collisions dans pinocchio.\n",
    "En effet nous avons la possibilité de placer des obstacles dans l'environement du robot.\n",
    "Dans la classe GeometryObject\n",
    "de pinocchio vous pouvez par exemple crée un obstacle en forme de capsule avec la fonction CreateCapsule qui prend en paramètre le rayon et la\n",
    "longueur de la capsule. Cela vous renvoie un objet dont vous avez à paramètrer la couleur (obstacle.meshColor = [1.0 ,0.2, 0.3 ,1.0]) qui est un vecteur de la forme rgb transparence, le nom (obstacle.name = ’obstacle’), l’objet parent (obstacle.parentJoint = 0 avec 0 indice de l’univers), l’emplacement de\n",
    "l’objet (obstacle.placement = matrice SE3)."
   ]
  },
  {
   "cell_type": "markdown",
   "metadata": {},
   "source": [
    "Pour crée notre obstacle nous allons chargé ur5 dans une autre variable robot2. C'est mieux de créer les obstacles d'abords avant d'ajouter autre chose dans l'environnement du robot"
   ]
  },
  {
   "cell_type": "code",
   "execution_count": 114,
   "metadata": {},
   "outputs": [],
   "source": [
    "robot2 = load('ur5')"
   ]
  },
  {
   "cell_type": "code",
   "execution_count": 115,
   "metadata": {},
   "outputs": [],
   "source": [
    "color = [ 1.0, 0.2, 0.2, 1.0 ]                       # couleur de la capsule\n",
    "rad,length = .1,0.4                                  # rayon et longueur de la capsule\n",
    "R = numpy.array([[1.,0.,0.],[0.,0.,-1.],[0.,1.,0.]])  # Matrice de rotation\n",
    "P = numpy.array([0.6, 0., 0.2 ])                    # Vecteur de translation\n",
    "obs = pin.GeometryObject.CreateCapsule(rad,length)  # Pinocchio obstacle object\n",
    "obs.meshColor = numpy.array(color)    # Couleur de l'obstacle \n",
    "obs.name = \"obstacle\"                             # nom de l'objet\n",
    "obs.parentJoint = 0                                 # objet parent = 0 = universe\n",
    "obs.placement = pin.SE3(R,P)  # fonction permettant de d'avoir un élément de SE3\n"
   ]
  },
  {
   "cell_type": "markdown",
   "metadata": {},
   "source": [
    "Après la création de l'objet géométrique vous devez l'ajouter dans le modèle visuel et de collision du robot :"
   ]
  },
  {
   "cell_type": "code",
   "execution_count": 116,
   "metadata": {},
   "outputs": [
    {
     "data": {
      "text/plain": [
       "7"
      ]
     },
     "execution_count": 116,
     "metadata": {},
     "output_type": "execute_result"
    }
   ],
   "source": [
    "robot2.collision_model.addGeometryObject(obs)  # Ajout de l'objet dans le modèle de  collision\n",
    "robot2.visual_model.addGeometryObject(obs)  # Ajout de l'objet dans le modèle de visuel"
   ]
  },
  {
   "cell_type": "markdown",
   "metadata": {},
   "source": [
    "Maintenant il nous reste à créer les pairs de collision grâce à la méthode pinocchio.collisionPair qui prend en paramêtre les indices des objets géométriques.\n",
    "Chaque partie du robot doit former une paire de collision avec chaque obstacles."
   ]
  },
  {
   "cell_type": "code",
   "execution_count": 117,
   "metadata": {},
   "outputs": [],
   "source": [
    "robotbodies = range(robot2.collision_model.ngeoms - 1) # le nombre de corps du robot correspond au nombre d'objet géométrique dans le modèle de collision moins le nombre d'obstacle \n",
    "                                                      # Mais ici nous avons besoin des indices de ces objets géométriques pour créer des paires de collision\n",
    "obsIndice = robot2.collision_model.ngeoms - 1          # Indice de notre obstacle (Dans notre cas c'est le dernier objet géométrique)"
   ]
  },
  {
   "cell_type": "markdown",
   "metadata": {},
   "source": [
    "Par précaution on enlève toutes les paires de collision qui existait et nous ajouterons celles que nous auront créées"
   ]
  },
  {
   "cell_type": "code",
   "execution_count": 118,
   "metadata": {},
   "outputs": [],
   "source": [
    "robot2.collision_model.removeAllCollisionPairs()\n",
    "for i in robotbodies :\n",
    "    robot2.collision_model.addCollisionPair(pin.CollisionPair(i,obsIndice))"
   ]
  },
  {
   "cell_type": "markdown",
   "metadata": {},
   "source": [
    "Par la suite il nous faut générer les données de collision correspondant"
   ]
  },
  {
   "cell_type": "code",
   "execution_count": 119,
   "metadata": {},
   "outputs": [],
   "source": [
    "robot2.collision_data = pin.GeometryData(robot2.collision_model)\n",
    "robot2.visual_data = pin.GeometryData(robot2.visual_model)"
   ]
  },
  {
   "cell_type": "markdown",
   "metadata": {},
   "source": [
    "Pour pouvoir visualiser le bras robotique avec l'obstacle fermer la fenêtre de gepetto-gui et relancer la commande sur le terminal."
   ]
  },
  {
   "cell_type": "code",
   "execution_count": 120,
   "metadata": {},
   "outputs": [],
   "source": [
    "robot2.initViewer(loadModel = True)\n",
    "robot2.display(robot2.q0)"
   ]
  },
  {
   "cell_type": "markdown",
   "metadata": {},
   "source": [
    "Nous pouvons ajouter notre sphère comme nous avons fait plutôt "
   ]
  },
  {
   "cell_type": "code",
   "execution_count": 121,
   "metadata": {},
   "outputs": [],
   "source": [
    "rgbt = [0.2, 1.2, 0.2, 1.0]  # rouge, vert, bleu, transparence (la couleur de l'objet)\n",
    "robot2.viewer.gui.addSphere(\"world/target\", .05, rgbt)  # .05 représente le rayon de la sphère \n",
    "target= [0.7,-0.3,0.4]       # Coordonnée de la sphère\n",
    "q1 = (target[0], target[1],target[2], 1, 0, 0, 0)  # x, y, z, quaternion\n",
    "robot2.viewer.gui.applyConfiguration(\"world/target\", q1) # Création de la sphère\n",
    "robot2.viewer.gui.refresh()  # Pour rafraîchir la fenêtre."
   ]
  },
  {
   "cell_type": "markdown",
   "metadata": {},
   "source": [
    "Avec Pinocchio, nous avons la possibilité de vérifier si le robot est en collision avec les obstacles ajoutés dans son environnement. Pour cela nous devons d’abord mettre à jour l’emplacement de l’ensemble des objets géométriques de l’environnement en faisant :"
   ]
  },
  {
   "cell_type": "code",
   "execution_count": 122,
   "metadata": {},
   "outputs": [],
   "source": [
    "pin.updateGeometryPlacements(robot2.model,robot2.data,robot2.collision_model,robot2.collision_data,robot2.q0) # on met en dernier paramètre la configuration que l'on souhaite tester la collision"
   ]
  },
  {
   "cell_type": "markdown",
   "metadata": {},
   "source": [
    "Puis pour tester s'il y'a collision ou pas on utilise la fonction pin.computeCollisions() : "
   ]
  },
  {
   "cell_type": "code",
   "execution_count": 123,
   "metadata": {},
   "outputs": [
    {
     "data": {
      "text/plain": [
       "True"
      ]
     },
     "execution_count": 123,
     "metadata": {},
     "output_type": "execute_result"
    }
   ],
   "source": [
    "pin.computeCollisions(robot2.collision_model, robot2.collision_data,False) "
   ]
  },
  {
   "cell_type": "markdown",
   "metadata": {},
   "source": [
    "Si la valeur du dernier paramètre  est True, alors la fonction arrête la boucle sur les paires de collisions lorsque la première collision est détectée et alors le vecteur collisions ne sera pas entièrement rempli.\n",
    "\n",
    "La fonction renvoie True s'il y'a collision et False sinon"
   ]
  },
  {
   "cell_type": "code",
   "execution_count": null,
   "metadata": {},
   "outputs": [],
   "source": []
  },
  {
   "cell_type": "code",
   "execution_count": null,
   "metadata": {},
   "outputs": [],
   "source": []
  }
 ],
 "metadata": {
  "kernelspec": {
   "display_name": "Python 3.10.4 64-bit",
   "language": "python",
   "name": "python3"
  },
  "language_info": {
   "codemirror_mode": {
    "name": "ipython",
    "version": 3
   },
   "file_extension": ".py",
   "mimetype": "text/x-python",
   "name": "python",
   "nbconvert_exporter": "python",
   "pygments_lexer": "ipython3",
   "version": "3.10.4"
  },
  "orig_nbformat": 4,
  "vscode": {
   "interpreter": {
    "hash": "916dbcbb3f70747c44a77c7bcd40155683ae19c65e1c03b4aa3499c5328201f1"
   }
  }
 },
 "nbformat": 4,
 "nbformat_minor": 2
}
